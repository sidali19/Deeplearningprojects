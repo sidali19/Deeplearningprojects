{
 "cells": [
  {
   "cell_type": "code",
   "execution_count": null,
   "metadata": {},
   "outputs": [],
   "source": [
    "import numpy as np\n",
    "from keras.models import model_from_yaml\n",
    "\n",
    "\n",
    "def saveModel(model, savename):\n",
    "    model_yaml = model.to_yaml()\n",
    "    with open(savename + \".yaml\", \"w\") as yaml_file:\n",
    "        yaml_file.write(model_yaml)\n",
    "        print(\"Yaml Model \", savename, \".yaml saved to disk\")\n",
    "        # serialize weights to HDF5\n",
    "        model.save_weights(savename + \".h5\")\n",
    "    print(\"Weights\", savename, \".h5 saved to disk\")\n",
    "\n",
    "\n",
    "maxLCap = 35\n",
    "nbkeep = 1000\n",
    "\n",
    "outfile = 'Training_data_' + str(nbkeep) + '.npz'\n",
    "data = np.load(outfile)\n",
    "X_train = data['X_train']\n",
    "y_train = data['Y_train']\n",
    "\n",
    "from keras.layers.recurrent import SimpleRNN\n",
    "from keras.models import Sequential\n",
    "from keras.layers import Dense, Activation, Masking\n",
    "from keras.optimizers import Adam\n",
    "\n",
    "model = Sequential()\n",
    "model.add(Masking(mask_value=0, input_shape=(maxLCap, 202)))\n",
    "model.add(SimpleRNN(100, return_sequences=True, input_shape=(nbkeep, maxLCap), unroll=True))\n",
    "model.add(Dense(nbkeep))\n",
    "model.add(Activation(\"softmax\"))\n",
    "\n",
    "BATCH_SIZE = 10\n",
    "NUM_EPOCHS = 10\n",
    "\n",
    "adam = Adam()\n",
    "model.compile(loss=\"categorical_crossentropy\", optimizer=adam, metrics=['accuracy'])\n",
    "model.fit(X_train, y_train, batch_size=BATCH_SIZE, epochs=NUM_EPOCHS)\n",
    "scores_train = model.evaluate(X_train, y_train, verbose=1)\n",
    "print(\"PERFS TRAIN: %s: %.2f%%\" % (model.metrics_names[1], scores_train[1] * 100))\n"
   ]
  },
  {
   "cell_type": "code",
   "execution_count": null,
   "metadata": {},
   "outputs": [],
   "source": [
    "saveModel(model, savename='model_projet_setsis')"
   ]
  },
  {
   "cell_type": "code",
   "execution_count": null,
   "metadata": {},
   "outputs": [],
   "source": []
  }
 ],
 "metadata": {
  "kernelspec": {
   "display_name": "Python 3",
   "language": "python",
   "name": "python3"
  },
  "language_info": {
   "codemirror_mode": {
    "name": "ipython",
    "version": 3
   },
   "file_extension": ".py",
   "mimetype": "text/x-python",
   "name": "python",
   "nbconvert_exporter": "python",
   "pygments_lexer": "ipython3",
   "version": "3.7.4"
  }
 },
 "nbformat": 4,
 "nbformat_minor": 4
}
