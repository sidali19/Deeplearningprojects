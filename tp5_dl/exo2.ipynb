{
 "cells": [
  {
   "cell_type": "code",
   "execution_count": 2,
   "metadata": {},
   "outputs": [],
   "source": [
    "import numpy as np\n",
    "import _pickle as picklel\n",
    "import pandas as pd\n",
    "\n",
    "maxLCap = 35\n",
    "nbkeep = 1000\n",
    "\n",
    "filename = 'flickr_8k_test_dataset.txt'\n",
    "df = pd.read_csv(filename, delimiter='\\t')\n",
    "nbTrain = df.shape[0]\n",
    "iter = df.iterrows()\n",
    "\n",
    "caps = []  # Set of captions\n",
    "imgs = []  # Set of images\n",
    "for i in range(nbTrain):\n",
    "    x = iter.__next__()\n",
    "    caps.append(x[1][1])\n",
    "    imgs.append(x[1][0])\n",
    "\n",
    "outfile = \"Caption_Embeddings_\" + str(nbkeep) + \".p\"\n",
    "[listwords, embeddings] = pickle.load(open(outfile, \"rb\"))  # Loading reduced dictionary\n",
    "indexwords = {}  # Useful for tensor filling\n",
    "for i in range(len(listwords)):\n",
    "    indexwords[listwords[i]] = i\n",
    "\n",
    "# Loading images features\n",
    "encoded_images = pickle.load(open(\"encoded_images_PCA.p\", \"rb\"))\n",
    "\n",
    "\n",
    "# Allocating data and labels tensors\n",
    "tinput = 202\n",
    "tVocabulary = len(listwords)\n",
    "X_test = np.zeros((nbTrain, maxLCap, tinput))\n",
    "Y_test = np.zeros((nbTrain, maxLCap, tVocabulary), bool)\n",
    "\n",
    "for i in range(nbTrain):\n",
    "    words_in_caption = caps[i].split()\n",
    "    indseq = 0  # current sequence index (to handle mising words in reduced dictionary)\n",
    "    for j in range(len(words_in_caption) - 1):\n",
    "        current_w = words_in_caption[j].lower()\n",
    "        if current_w in listwords:\n",
    "            X_test[i, indseq, 0:102] = embeddings[listwords.index(current_w)] \n",
    "            X_test[i, indseq, 102:202] = encoded_images[imgs[i]] \n",
    "\n",
    "        next_w = words_in_caption[j + 1].lower()\n",
    "        if next_w in listwords:\n",
    "            index_pred = listwords.index(next_w) \n",
    "            Y_test[i, indseq, index_pred] = 1 \n",
    "            indseq += 1  # Increment index if target label present in reduced dictionary\n",
    "\n",
    "outfile = 'Testing_data_' + str(nbkeep)\n",
    "np.savez(outfile, X_test=X_test, Y_test=Y_test)  # Saving tensor\n"
   ]
  },
  {
   "cell_type": "code",
   "execution_count": null,
   "metadata": {},
   "outputs": [],
   "source": []
  }
 ],
 "metadata": {
  "kernelspec": {
   "display_name": "Python 3",
   "language": "python",
   "name": "python3"
  },
  "language_info": {
   "codemirror_mode": {
    "name": "ipython",
    "version": 3
   },
   "file_extension": ".py",
   "mimetype": "text/x-python",
   "name": "python",
   "nbconvert_exporter": "python",
   "pygments_lexer": "ipython3",
   "version": "3.7.4"
  }
 },
 "nbformat": 4,
 "nbformat_minor": 4
}
